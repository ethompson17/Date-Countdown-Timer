{
 "cells": [
  {
   "cell_type": "markdown",
   "id": "4dc35b6a",
   "metadata": {},
   "source": [
    "# Date Countdown Timer"
   ]
  },
  {
   "cell_type": "code",
   "execution_count": null,
   "id": "a058e556",
   "metadata": {},
   "outputs": [
    {
     "name": "stdout",
     "output_type": "stream",
     "text": [
      "Current Date: Oct 02, 2022 18:41:04 \n",
      "\n",
      "Time Until: Oct 13, 2022\n",
      "10 days, 5:18:56\n"
     ]
    }
   ],
   "source": [
    "from datetime import date\n",
    "import time\n",
    "from IPython.display import clear_output\n",
    "\n",
    "\n",
    "\n",
    "\n",
    "today = datetime.today().replace(microsecond=0)\n",
    "\n",
    "\n",
    "month = int(input('Enter a month (mm): '))\n",
    "day = int(input('Enter a day (dd): '))\n",
    "year = int(input('Enter a year (yyyy): '))\n",
    "\n",
    "y = datetime(year, month, day)\n",
    "datestr = y.strftime('%b %d, %Y')\n",
    "\n",
    "def diff():\n",
    "    today = datetime.today().replace(microsecond=0)\n",
    "    td = today.strftime('%b %d, %Y %H:%M:%S')\n",
    "    diff = y - today\n",
    "    print('Current Date and Time:', td,'\\n')\n",
    "    print('Time Until:', datestr)\n",
    "    print(diff)\n",
    "    clear_output(wait=True)\n",
    "    \n",
    "while(True):\n",
    "    diff()\n",
    "    time.sleep(1)\n"
   ]
  }
 ],
 "metadata": {
  "kernelspec": {
   "display_name": "Python 3 (ipykernel)",
   "language": "python",
   "name": "python3"
  },
  "language_info": {
   "codemirror_mode": {
    "name": "ipython",
    "version": 3
   },
   "file_extension": ".py",
   "mimetype": "text/x-python",
   "name": "python",
   "nbconvert_exporter": "python",
   "pygments_lexer": "ipython3",
   "version": "3.9.7"
  }
 },
 "nbformat": 4,
 "nbformat_minor": 5
}
